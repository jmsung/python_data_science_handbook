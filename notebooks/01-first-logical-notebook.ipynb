{
 "cells": [
  {
   "cell_type": "markdown",
   "metadata": {},
   "source": [
    "In projectname/projectname/config.py, we place in special paths and variables that are used across the project. An example might be:\n",
    "\n",
    "# config.py\n",
    "\n",
    "from pathlib import Path  # pathlib is seriously awesome!\n",
    "\n",
    "data_dir = Path('/path/to/some/logical/parent/dir')\n",
    "data_path = data_dir / 'my_file.csv'  # use feather files if possible!!!\n",
    "\n",
    "customer_db_url = 'sql:///customer/db/url'\n",
    "purchases_db_url = 'sql:///purchases/db/url'\n",
    "Then, in our notebooks, we can easily import these variables and not worry about custom strings littering our code.\n",
    "\n",
    "\n",
    "# notebook.ipynb\n",
    "\n",
    "import pandas as pd\n",
    "from projectname.config import data_path\n",
    "from projectname.custom_funcs import custom_preprocessor\n",
    "\n",
    "df = pd.read_csv(data_path)  # clean!\n",
    "processed = custom_preprocessor(df)\n",
    "By using these config.py files, we get clean code in exchange for an investment of time naming variables logically.\n",
    "\n"
   ]
  },
  {
   "cell_type": "code",
   "execution_count": null,
   "metadata": {},
   "outputs": [],
   "source": []
  }
 ],
 "metadata": {
  "kernelspec": {
   "display_name": "Python 3",
   "language": "python",
   "name": "python3"
  },
  "language_info": {
   "codemirror_mode": {
    "name": "ipython",
    "version": 3
   },
   "file_extension": ".py",
   "mimetype": "text/x-python",
   "name": "python",
   "nbconvert_exporter": "python",
   "pygments_lexer": "ipython3",
   "version": "3.6.8"
  }
 },
 "nbformat": 4,
 "nbformat_minor": 2
}
